{
 "cells": [
  {
   "cell_type": "code",
   "execution_count": 5,
   "metadata": {},
   "outputs": [
    {
     "name": "stdout",
     "output_type": "stream",
     "text": [
      "enter n: 4\n",
      "1 X 4 = 4\n",
      "2 X 4 = 8\n",
      "3 X 4 = 12\n",
      "4 X 4 = 16\n",
      "5 X 4 = 20\n",
      "6 X 4 = 24\n",
      "7 X 4 = 28\n",
      "8 X 4 = 32\n",
      "9 X 4 = 36\n",
      "10 X 4 = 40\n"
     ]
    }
   ],
   "source": [
    "#print table of n\n",
    "n=input('enter n: ')\n",
    "n_int=int(n)\n",
    "for i in range(1,11):\n",
    "    print(i,'X',n_int,'=',i*n_int)"
   ]
  },
  {
   "cell_type": "code",
   "execution_count": 7,
   "metadata": {},
   "outputs": [
    {
     "name": "stdout",
     "output_type": "stream",
     "text": [
      " \n",
      " \n",
      "a  \n",
      "a a  \n",
      "a a a "
     ]
    }
   ],
   "source": [
    "\n",
    "#print pattern of a\n",
    "for i in range(1, 5):\n",
    "        print(' ')\n",
    "        for j in range(1, i):\n",
    "            print('a', end=' ')"
   ]
  },
  {
   "cell_type": "code",
   "execution_count": 11,
   "metadata": {},
   "outputs": [
    {
     "name": "stdout",
     "output_type": "stream",
     "text": [
      " \n",
      " \n",
      "1  \n",
      "2 3  \n",
      "4 5 6 "
     ]
    }
   ],
   "source": [
    " #printing patten of num\n",
    "k = 1\n",
    "for i in range(1, 5):\n",
    "    print(' ')\n",
    "    for j in range(1, i):\n",
    "        print(k, end=' ')\n",
    "        k = k + 1"
   ]
  },
  {
   "cell_type": "code",
   "execution_count": 17,
   "metadata": {},
   "outputs": [
    {
     "name": "stdout",
     "output_type": "stream",
     "text": [
      "\n",
      "1\n",
      "23\n",
      "345\n",
      "4567"
     ]
    }
   ],
   "source": [
    "for i in range(1,5):\n",
    "    print('')\n",
    "    for j in range(1,i+1):\n",
    "        print(i,end='')\n",
    "        i=i+1\n"
   ]
  },
  {
   "cell_type": "code",
   "execution_count": 18,
   "metadata": {},
   "outputs": [
    {
     "name": "stdout",
     "output_type": "stream",
     "text": [
      "\n",
      "4444\n",
      "333\n",
      "22\n",
      "1"
     ]
    }
   ],
   "source": [
    "for i in range(5,1,-1):\n",
    "    print('')\n",
    "    for j in range(i,1,-1):\n",
    "        print(i-1,end='')\n"
   ]
  },
  {
   "cell_type": "code",
   "execution_count": 19,
   "metadata": {},
   "outputs": [
    {
     "name": "stdout",
     "output_type": "stream",
     "text": [
      "\n",
      "11111\n",
      "2222\n",
      "333\n",
      "44\n",
      "5"
     ]
    }
   ],
   "source": [
    "for i in range(1,6):\n",
    "    print('')\n",
    "    for j in range(i,6):\n",
    "        print(i,end='')"
   ]
  },
  {
   "cell_type": "code",
   "execution_count": 20,
   "metadata": {},
   "outputs": [
    {
     "name": "stdout",
     "output_type": "stream",
     "text": [
      "1\n",
      "12\n",
      "123\n",
      "1234\n"
     ]
    }
   ],
   "source": [
    "for i in range(1,5):\n",
    "    for j in range (1,i+1):\n",
    "        print(j, end='')\n",
    "    print('')\n"
   ]
  },
  {
   "cell_type": "code",
   "execution_count": 21,
   "metadata": {},
   "outputs": [
    {
     "name": "stdout",
     "output_type": "stream",
     "text": [
      "1\n",
      "21\n",
      "321\n",
      "4321\n"
     ]
    }
   ],
   "source": [
    "for i in range(1,5):\n",
    "    for j in range(i,0,-1):\n",
    "        print(j,end='')\n",
    "    print('')\n"
   ]
  },
  {
   "cell_type": "code",
   "execution_count": null,
   "metadata": {},
   "outputs": [],
   "source": []
  }
 ],
 "metadata": {
  "kernelspec": {
   "display_name": "Python 3",
   "language": "python",
   "name": "python3"
  },
  "language_info": {
   "codemirror_mode": {
    "name": "ipython",
    "version": 3
   },
   "file_extension": ".py",
   "mimetype": "text/x-python",
   "name": "python",
   "nbconvert_exporter": "python",
   "pygments_lexer": "ipython3",
   "version": "3.7.3"
  }
 },
 "nbformat": 4,
 "nbformat_minor": 2
}
